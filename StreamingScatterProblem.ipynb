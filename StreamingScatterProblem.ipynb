{
 "cells": [
  {
   "cell_type": "code",
   "execution_count": 35,
   "metadata": {},
   "outputs": [
    {
     "name": "stdout",
     "output_type": "stream",
     "text": [
      "Name: plotly\n",
      "Version: 2.0.14\n",
      "Summary: Python plotting library for collaborative, interactive, publication-quality graphs.\n",
      "Home-page: https://plot.ly/python/\n",
      "Author: Chris P\n",
      "Author-email: chris@plot.ly\n",
      "License: MIT\n",
      "Location: /anaconda/lib/python3.5/site-packages\n",
      "Requires: nbformat, pytz, decorator, requests, six\n",
      "\u001b[33mYou are using pip version 9.0.1, however version 19.1.1 is available.\n",
      "You should consider upgrading via the 'pip install --upgrade pip' command.\u001b[0m\n"
     ]
    }
   ],
   "source": [
    "!pip show plotly"
   ]
  },
  {
   "cell_type": "markdown",
   "metadata": {},
   "source": [
    "<a id=\"load31\"></a>\n",
    "### 3.1 Get your Plotly credentials information\n",
    "To create the visualization, you need to <a href=\"https://plot.ly/accounts/login/?action=signup\" target=\"_blank\">register with Plotly</a> then get the following keys for your Plotly account:\n",
    "- API key  \n",
    "- Streaming API key (create 2).\n",
    "\n",
    "Paste that information in the cell below."
   ]
  },
  {
   "cell_type": "code",
   "execution_count": 4,
   "metadata": {},
   "outputs": [],
   "source": [
    "#Change the values in this cell with your username, api key, stream ids\n",
    "\n",
    "\n",
    "plotly_api_key = 'yourkey'\n",
    "plotly_stream_ids =['id0','id1']  # you need to create 2\n",
    "plotly_username = 'yourid'\n",
    "\n"
   ]
  },
  {
   "cell_type": "code",
   "execution_count": 24,
   "metadata": {},
   "outputs": [
    {
     "data": {
      "text/html": [
       "<iframe id=\"igraph\" scrolling=\"no\" style=\"border:none;\" seamless=\"seamless\" src=\"https://plot.ly/~ndsilva99/13.embed\" height=\"800\" width=\"85%\"></iframe>"
      ],
      "text/plain": [
       "<plotly.tools.PlotlyDisplay object>"
      ]
     },
     "execution_count": 24,
     "metadata": {},
     "output_type": "execute_result"
    }
   ],
   "source": [
    "#Change the values in this cell with your username, api key, stream ids\n",
    "import numpy as np\n",
    "from plotly.graph_objs import *\n",
    "import plotly\n",
    "import plotly.plotly as pty\n",
    "import plotly.tools \n",
    "import plotly.graph_objs as graph_objs\n",
    "\n",
    "import plotly.plotly as py\n",
    "import plotly.tools as tls\n",
    "import plotly.graph_objs as go\n",
    "from datetime import timedelta  \n",
    "import datetime \n",
    "\n",
    "#Configure plotly to use your token\n",
    "plotly.tools.set_credentials_file(username=plotly_username, api_key=plotly_api_key, stream_ids=plotly_stream_ids)\n",
    "\n",
    "stream_tokens = plotly.tools.get_credentials_file()['stream_ids']\n",
    "#In this case you just have the one token. If you wanted to graph multiple streams you would have to use multiple tokens.\n",
    "\n",
    "user2_cfg = dict(token=plotly_stream_ids[0], maxpoints=10)\n",
    "user1_cfg = dict(token=plotly_stream_ids[1], maxpoints=10)\n",
    "\n",
    "start_time = datetime.datetime.fromtimestamp(1556152461)\n",
    "\n",
    "user1_trace = go.Scatter(\n",
    "    x=[start_time.strftime('%m-%d-%H:%M'), (start_time+timedelta(minutes=15)).strftime('%m-%d-%H:%M')],\n",
    "\n",
    "    y=[0,0],\n",
    "    mode='lines+markers',name=\"User1\",\n",
    "    stream=user1_cfg, marker = dict(\n",
    "        size = 8,\n",
    "        color = 'royalblue',\n",
    "        line = dict(\n",
    "            width = 1,\n",
    "        )\n",
    "    )         # (!) embed stream id, 1 per trace\n",
    ")\n",
    "# Initialize trace of streaming plot by embedding the unique stream_id\n",
    "user2_trace = go.Scatter(\n",
    "    x=[start_time.strftime('%m-%d-%H:%M'), (start_time+timedelta(minutes=15)).strftime('%m-%d-%H:%M')],\n",
    "    y=[0,0],\n",
    "    mode='lines+markers',\n",
    "    name=\"User 2\",\n",
    "    stream=user2_cfg, marker = dict(\n",
    "        size = 8,\n",
    "        color = 'orange',\n",
    "        line = dict(\n",
    "            width = 2,\n",
    "        )\n",
    "    )         # (!) embed stream id, 1 per trace\n",
    ")\n",
    "\n",
    "data = go.Data([user2_trace, user1_trace])\n",
    "\n",
    "# Add title to layout object\n",
    "layout = go.Layout(title='User 1 vs User 2',   xaxis= dict(\n",
    "        title= 'Time'\n",
    "    ),\n",
    "    yaxis=dict(\n",
    "        title= 'Count'\n",
    "    ),)\n",
    "\n",
    "# Make a figure object\n",
    "fig = go.Figure(data=data, layout=layout)\n",
    "\n",
    "# We will provide the stream link object the same token that's associated with the trace we wish to stream to\n",
    "user2_stream = py.Stream(plotly_stream_ids[0])\n",
    "user1_stream = py.Stream(plotly_stream_ids[1])\n",
    "g_url = py.plot( fig,  filename='streaming-demo-3', auto_open=False, fileopt='overwrite')\n",
    "tls.embed(g_url,width=\"85%\",height=800)"
   ]
  },
  {
   "cell_type": "code",
   "execution_count": 30,
   "metadata": {},
   "outputs": [],
   "source": [
    "def get_tsStr(ts):\n",
    "    return datetime.datetime.fromtimestamp(ts).strftime('%m-%d-%H:%M')\n",
    "\n",
    "sample_data = [{'user_2_val': 20.8, 'user_1_val': 26.0, 'user_2_time': '04-06-19:11', 'user_1_time': '04-06-18:41'},\n",
    "{'user_2_val': 15.200000000000001, 'user_1_val': 14.0, 'user_2_time': '04-06-19:26', 'user_1_time': '04-06-18:56'},\n",
    "{'user_2_val': 14.4, 'user_1_val': 6.0, 'user_2_time': '04-06-19:41', 'user_1_time': '04-06-19:11'},\n",
    "{'user_2_val': 18.0, 'user_1_val': 18.0, 'user_2_time': '04-06-19:56', 'user_1_time': '04-06-19:26'},\n",
    "{'user_2_val': 0, 'user_1_val': 4.0, 'user_2_time': '04-06-20:11', 'user_1_time': '04-06-19:41'}]\n",
    "\n",
    "sample_data  = sorted(sample_data, key=lambda k: k['user_1_time']) \n"
   ]
  },
  {
   "cell_type": "code",
   "execution_count": 34,
   "metadata": {},
   "outputs": [
    {
     "name": "stdout",
     "output_type": "stream",
     "text": [
      "Closed\n"
     ]
    }
   ],
   "source": [
    "import datetime\n",
    "\n",
    "def get_tsStr(ts):\n",
    "    return datetime.datetime.fromtimestamp(ts).strftime('%m-%d-%H:%M')\n",
    "\n",
    "user2_stream.open()\n",
    "user1_stream.open()\n",
    "\n",
    "\n",
    "user1_stream.write(dict(x=[], y=[]))\n",
    "user2_stream.write(dict(x=[], y=[]))\n",
    "\n",
    "import time\n",
    "time.sleep(2.0)\n",
    "try:\n",
    "    for reading in sample_data:\n",
    "        user2_stream.write(dict(x=reading[\"user_2_time\"] ,\n",
    "                                     y=reading[\"user_2_val\"]))\n",
    "        user1_stream.write(dict(x = reading[\"user_1_time\"], \n",
    "                                y = reading[\"user_1_val\"]))\n",
    "        time.sleep(1)\n",
    "                   \n",
    "except KeyboardInterrupt:\n",
    "    pass\n",
    "\n",
    "finally:\n",
    "    # Leave group and commit final offsets\n",
    "    user1_stream.close()\n",
    "    user2_stream.close()\n",
    "    print(\"Closed\")\n",
    "\n",
    "    \n",
    "    \n",
    "    "
   ]
  }
 ],
 "metadata": {
  "anaconda-cloud": {},
  "kernelspec": {
   "display_name": "Python [default]",
   "language": "python",
   "name": "python3"
  },
  "language_info": {
   "codemirror_mode": {
    "name": "ipython",
    "version": 3
   },
   "file_extension": ".py",
   "mimetype": "text/x-python",
   "name": "python",
   "nbconvert_exporter": "python",
   "pygments_lexer": "ipython3",
   "version": "3.5.2"
  }
 },
 "nbformat": 4,
 "nbformat_minor": 1
}
